{
 "cells": [
  {
   "cell_type": "code",
   "execution_count": null,
   "metadata": {},
   "outputs": [],
   "source": [
    "import numpy as np\n",
    "import pandas as pd\n",
    "import matplotlib.pyplot as plt\n",
    "import seaborn as sns"
   ]
  },
  {
   "cell_type": "code",
   "execution_count": null,
   "metadata": {},
   "outputs": [],
   "source": [
    "iris = pd.read_csv(\"iris.csv\")"
   ]
  },
  {
   "cell_type": "code",
   "execution_count": null,
   "metadata": {},
   "outputs": [],
   "source": [
    "clss = iris['class'].unique()\n",
    "feats = iris.columns.drop('class')"
   ]
  },
  {
   "cell_type": "code",
   "execution_count": null,
   "metadata": {},
   "outputs": [],
   "source": [
    "def gini_impurity(df,targ='class'):\n",
    "    if len(df) == 0:\n",
    "        return 0\n",
    "    gini = 0.0\n",
    "    for i in df[targ].unique():\n",
    "        gin = (df[targ] == i).sum()/len(df)\n",
    "        gini += gin*(1-gin)\n",
    "    return gini"
   ]
  },
  {
   "cell_type": "code",
   "execution_count": null,
   "metadata": {},
   "outputs": [],
   "source": [
    "def gini(df,feature,split,targ='class'):\n",
    "    ls = sum(df[feature] < sp)/len(iris)\n",
    "    gini = gini_impurity(df[df[feature]< sp] ,targ)\n",
    "    gini_inv = gini_impurity(df[df[feature] >= sp],targ)\n",
    "    return ls*gini+(1-ls)*gini_inv"
   ]
  },
  {
   "cell_type": "code",
   "execution_count": null,
   "metadata": {},
   "outputs": [],
   "source": [
    "for f in feats:\n",
    "    best_gini = 1\n",
    "    best_sp = 0\n",
    "    for sp in iris[f]:\n",
    "        gin = gini(iris,f,sp) \n",
    "        if  gin < best_gini:\n",
    "            best_gini = gin\n",
    "            best_sp = sp\n",
    "    print(f,best_gini,best_sp)"
   ]
  },
  {
   "cell_type": "code",
   "execution_count": null,
   "metadata": {},
   "outputs": [],
   "source": [
    "for f in feats:\n",
    "    for cls in clss:\n",
    "        sns.distplot(iris[iris['class']==cls][f],hist=False)\n",
    "    plt.show()"
   ]
  },
  {
   "cell_type": "code",
   "execution_count": null,
   "metadata": {},
   "outputs": [],
   "source": []
  }
 ],
 "metadata": {
  "kernelspec": {
   "display_name": "Python 3",
   "language": "python",
   "name": "python3"
  },
  "language_info": {
   "codemirror_mode": {
    "name": "ipython",
    "version": 3
   },
   "file_extension": ".py",
   "mimetype": "text/x-python",
   "name": "python",
   "nbconvert_exporter": "python",
   "pygments_lexer": "ipython3",
   "version": "3.6.6"
  }
 },
 "nbformat": 4,
 "nbformat_minor": 2
}
