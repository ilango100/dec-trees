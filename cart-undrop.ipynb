{
 "cells": [
  {
   "cell_type": "code",
   "execution_count": null,
   "metadata": {},
   "outputs": [],
   "source": [
    "import numpy as np\n",
    "import pandas as pd\n",
    "import matplotlib.pyplot as plt\n",
    "import seaborn as sns"
   ]
  },
  {
   "cell_type": "code",
   "execution_count": null,
   "metadata": {},
   "outputs": [],
   "source": [
    "iris = pd.read_csv(\"iris.csv\")"
   ]
  },
  {
   "cell_type": "code",
   "execution_count": null,
   "metadata": {},
   "outputs": [],
   "source": [
    "def gini_impurity(df,targ='class'):\n",
    "    if len(df) == 0:\n",
    "        return 0\n",
    "    gini = 0.0\n",
    "    for cls in df[targ].unique():\n",
    "        gin = (df[targ]==cls).sum()/len(df)\n",
    "        gini += gin*(1-gin)\n",
    "    return gini"
   ]
  },
  {
   "cell_type": "code",
   "execution_count": null,
   "metadata": {},
   "outputs": [],
   "source": [
    "def split_gini(df,attrib,split,targ='class'):\n",
    "    ln = sum(df[attrib] < split)/len(df)\n",
    "    gini = gini_impurity(df[df[attrib] < split],targ)\n",
    "    gini_inv = gini_impurity(df[df[attrib] >= split],targ)\n",
    "    return ln*gini+(1-ln)*gini_inv"
   ]
  },
  {
   "cell_type": "code",
   "execution_count": null,
   "metadata": {},
   "outputs": [],
   "source": [
    "def best_split(df,f,targ='class'):\n",
    "    best_gini = 1.0\n",
    "    best_sp = 0\n",
    "    for sp in df[f]:\n",
    "        gini = split_gini(df,f,sp,targ)\n",
    "        if gini < best_gini:\n",
    "            best_gini = gini\n",
    "            best_sp = sp\n",
    "    return best_sp,best_gini"
   ]
  },
  {
   "cell_type": "code",
   "execution_count": null,
   "metadata": {},
   "outputs": [],
   "source": [
    "class Node:\n",
    "    def __init__(self,parent=None):\n",
    "        self.parent = parent\n",
    "    \n",
    "    def type(self):\n",
    "        return 'node'"
   ]
  },
  {
   "cell_type": "code",
   "execution_count": null,
   "metadata": {},
   "outputs": [],
   "source": [
    "class SplitNode(Node):\n",
    "    def __init__(self,attrib,val,parent=None,left=None,right=None):\n",
    "        Node.__init__(self,parent)\n",
    "        self.left = left\n",
    "        self.right = right\n",
    "        self.attrib = attrib\n",
    "        self.val = val\n",
    "    \n",
    "    def type(self):\n",
    "        return 'split'"
   ]
  },
  {
   "cell_type": "code",
   "execution_count": null,
   "metadata": {},
   "outputs": [],
   "source": [
    "class LeafNode(Node):\n",
    "    def __init__(self,cls,parent=None):\n",
    "        Node.__init__(self,parent)\n",
    "        self.cls = cls\n",
    "        \n",
    "    def type(self):\n",
    "        return 'leaf'"
   ]
  },
  {
   "cell_type": "code",
   "execution_count": null,
   "metadata": {},
   "outputs": [],
   "source": [
    "def best_split_all(df,targ='class'):\n",
    "    best_gini = 1.0\n",
    "    best_feat = df.columns[0]\n",
    "    best_sp = 0\n",
    "    for f in df.columns.drop('class'):\n",
    "        bs,bg = best_split(df,f,targ)\n",
    "        if bg < best_gini:\n",
    "            best_gini = bg\n",
    "            best_sp = bs\n",
    "            best_feat = f\n",
    "    return SplitNode(best_feat,best_sp),df[df[best_feat] < best_sp],df[df[best_feat] >= best_sp],best_gini"
   ]
  },
  {
   "cell_type": "code",
   "execution_count": null,
   "metadata": {},
   "outputs": [],
   "source": [
    "def build_tree(df,parent=None,targ='class'):\n",
    "    if len(df) == 0:\n",
    "        return Node(parent)\n",
    "    if len(df.columns) == 1 or len(df[targ].unique()) == 1:\n",
    "        return LeafNode(df[targ].value_counts().idxmax(),parent)\n",
    "    root,ldf,rdf,gin = best_split_all(df,targ)\n",
    "    root.parent = parent\n",
    "    root.left = build_tree(ldf,root,targ)\n",
    "    root.right = build_tree(rdf,root,targ)\n",
    "    return root"
   ]
  },
  {
   "cell_type": "code",
   "execution_count": null,
   "metadata": {},
   "outputs": [],
   "source": [
    "tree = build_tree(iris)"
   ]
  },
  {
   "cell_type": "code",
   "execution_count": null,
   "metadata": {},
   "outputs": [],
   "source": [
    "def print_tree(tree,level=0):\n",
    "    print('\\t'*level,end=\"\")\n",
    "    if tree.type() == 'node':\n",
    "        print(\"Empty\")\n",
    "    elif tree.type() == 'leaf':\n",
    "        print(\"leaf:\",tree.cls)\n",
    "    else:\n",
    "        print(\"split\",tree.attrib,\"with\",tree.val)\n",
    "        print('\\t'*level,end=\"\")\n",
    "        print(\"left:\")\n",
    "        print_tree(tree.left,level+1)\n",
    "        print('\\t'*level,end=\"\")\n",
    "        print(\"right:\")\n",
    "        print_tree(tree.right,level+1)"
   ]
  },
  {
   "cell_type": "code",
   "execution_count": null,
   "metadata": {},
   "outputs": [],
   "source": [
    "%%capture ptree\n",
    "print_tree(tree)"
   ]
  },
  {
   "cell_type": "code",
   "execution_count": null,
   "metadata": {},
   "outputs": [],
   "source": [
    "with open(\"cart_undrop.txt\",\"w\") as t:\n",
    "    t.write(ptree.stdout)"
   ]
  },
  {
   "cell_type": "code",
   "execution_count": null,
   "metadata": {},
   "outputs": [],
   "source": [
    "right = 0 \n",
    "wrong = 0\n",
    "for i in iris.index:\n",
    "    row = iris.loc[i]\n",
    "    node = tree\n",
    "    while node.type() == 'split':\n",
    "        if row[node.attrib] < node.val:\n",
    "            node = node.left\n",
    "        else:\n",
    "            node = node.right\n",
    "    if node.type() == 'leaf':\n",
    "        if node.cls != row['class']:\n",
    "            wrong += 1\n",
    "            print(\"Wrong at\",i)\n",
    "        else:\n",
    "            right += 1"
   ]
  },
  {
   "cell_type": "code",
   "execution_count": null,
   "metadata": {},
   "outputs": [],
   "source": [
    "print(right,wrong)"
   ]
  },
  {
   "cell_type": "code",
   "execution_count": null,
   "metadata": {},
   "outputs": [],
   "source": []
  }
 ],
 "metadata": {
  "kernelspec": {
   "display_name": "Python 3",
   "language": "python",
   "name": "python3"
  },
  "language_info": {
   "codemirror_mode": {
    "name": "ipython",
    "version": 3
   },
   "file_extension": ".py",
   "mimetype": "text/x-python",
   "name": "python",
   "nbconvert_exporter": "python",
   "pygments_lexer": "ipython3",
   "version": "3.6.6"
  }
 },
 "nbformat": 4,
 "nbformat_minor": 2
}
